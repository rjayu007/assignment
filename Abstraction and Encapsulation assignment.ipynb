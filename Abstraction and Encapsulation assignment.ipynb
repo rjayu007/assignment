{
 "cells": [
  {
   "cell_type": "markdown",
   "id": "b2c5b648-f8d8-4813-b5e8-40f124c32d0d",
   "metadata": {},
   "source": [
    "Q1. What is Abstraction in OOps? Explain with an example."
   ]
  },
  {
   "cell_type": "markdown",
   "id": "96194008-3be0-495b-b794-e90bd90324a3",
   "metadata": {},
   "source": [
    "ANS. Abstraction is a process of handling complexity by hiding unnecessary information from the user.\n",
    "Abstraction is used to hide the internal functionality of the function from the users. The users only interact with the basic implementation of the function, but inner working is hidden. User is familiar with that \"what function does\" but they don't know \"how it does\".\n",
    "In Python, abstraction can be achieved by using abstract classes.\n",
    "\n",
    "A class which contains one or more abstract methods is called an abstract class.\n",
    "Python comes with a module that provides the base for defining Abstract Base classes(ABC) and that module name is abc. ABC works by decorating methods of the base class as abstract, and A method becomes abstract when decorated with the keyword @abstractmethod\n"
   ]
  },
  {
   "cell_type": "code",
   "execution_count": 10,
   "id": "30281440-7940-4f37-93e8-6022a439e01f",
   "metadata": {},
   "outputs": [],
   "source": [
    "from abc import ABC, abstractmethod\n",
    "class  Polygon(ABC):\n",
    "    \n",
    "    @abstractmethod\n",
    "    def no_of_sides(self):\n",
    "        pass"
   ]
  },
  {
   "cell_type": "code",
   "execution_count": 13,
   "id": "8d250dfb-6e65-4710-b661-8652dc73d5cd",
   "metadata": {},
   "outputs": [],
   "source": [
    "class  triangle(Polygon):\n",
    "    \n",
    "    def no_of_sides(self):\n",
    "        return \"triangle have 3 sides\"\n",
    "    \n",
    "class pentagon(Polygon):\n",
    "    \n",
    "    def no_of_sides(self):\n",
    "        return \"pentagon have 5 sides\"\n",
    "    \n",
    "class hexagon(Polygon):\n",
    "    \n",
    "    def no_of_sides(self):\n",
    "        return \"hexagon have 6 sides\"\n",
    "    \n",
    "class square(Polygon):\n",
    "    \n",
    "    def no_of_sides(self):\n",
    "        return \"square have 4 sides\""
   ]
  },
  {
   "cell_type": "code",
   "execution_count": 14,
   "id": "00b77733-befd-4f91-b8c6-138ecbe5198f",
   "metadata": {},
   "outputs": [],
   "source": [
    "a = triangle()\n",
    "b = pentagon()\n",
    "c= hexagon()\n",
    "d= square()\n",
    "\n",
    "l =[a,b,c,d]"
   ]
  },
  {
   "cell_type": "code",
   "execution_count": 15,
   "id": "949f9d23-4305-4b83-8e7e-04027c3b5bb6",
   "metadata": {},
   "outputs": [
    {
     "name": "stdout",
     "output_type": "stream",
     "text": [
      "triangle have 3 sides\n",
      "pentagon have 5 sides\n",
      "hexagon have 6 sides\n",
      "square have 4 sides\n"
     ]
    }
   ],
   "source": [
    "l =[a,b,c,d]\n",
    "for i in l:\n",
    "    print(i.no_of_sides())"
   ]
  },
  {
   "cell_type": "markdown",
   "id": "7056a3a2-43c1-4c6b-8afe-c4a63e1decbb",
   "metadata": {},
   "source": [
    "Q2. Differentiate between Abstraction and Encapsulation. Explain with an example.\n"
   ]
  },
  {
   "cell_type": "markdown",
   "id": "5a63a192-9639-45a3-9b71-df1c62ee0019",
   "metadata": {},
   "source": [
    "ANS. Abstraction is hiding the unnecessary details , it is design level process and concerned about what a class instance can do, instead of the implementation of the class. it is used to reduce the complexity at the designing stage of a project. it is a blueprint or skeleton for other classes.\n",
    "\n",
    "Encapsulation is hiding the data and controlling the visibility of the code. it is an implementation level process.\n",
    "it helps in data binding and control over maintaining the transparency of the data.it is used at the implementation stage of a project."
   ]
  },
  {
   "cell_type": "code",
   "execution_count": 22,
   "id": "ffb4d9ab-6e79-48b5-b9fa-89cee2826eb0",
   "metadata": {},
   "outputs": [],
   "source": [
    "# abstraction\n",
    "import abc\n",
    "\n",
    "class polygon(abc.ABC) :\n",
    "        @abc.abstractmethod # here we abstract the method by ABC so the user can only takes it's use. he does not know how it's done.\n",
    "        def no_of_sides(self):\n",
    "            print(\"that is sides of polygon\")\n",
    "        \n",
    "        \n",
    "# encapsulation\n",
    "\n",
    "class triangle(polygon):\n",
    "    \n",
    "    def __init__(self):\n",
    "        self.__sides = 3 # here we encapsulated the sides of triangle so that is private variable. user can't see it\n",
    "        "
   ]
  },
  {
   "cell_type": "markdown",
   "id": "6eecd6c9-6b89-4f83-90c9-b4a402945804",
   "metadata": {},
   "source": [
    "Q3. What is abc module in python? Why is it used?"
   ]
  },
  {
   "cell_type": "markdown",
   "id": "39fcfb69-cb5d-4b11-bab7-d6e8eae4bd9c",
   "metadata": {},
   "source": [
    "ANS. abc module provides the infrastructure for defining custom abstract base classes.\n",
    "For larger projects, it is impossible to remember the class details, and also the reusability of code can increase the bug. so there is a necessity of somekind of bluprint that reduces complexity and hides unnecessary details. so, when we making new classes we can use this base class direct without knowing that."
   ]
  },
  {
   "cell_type": "markdown",
   "id": "55ff3f2e-d62d-4de7-a367-a6eced3c35f8",
   "metadata": {},
   "source": [
    "Q4. How can we achieve data abstraction?"
   ]
  },
  {
   "cell_type": "markdown",
   "id": "ca0bf5cd-2c04-4782-bda9-c6989761a089",
   "metadata": {},
   "source": [
    "ANS. by declaring an absract base class . Python has a module called abc (abstract base class) that offers the necessary tools for crafting an abstract base class.\n",
    "- first we have to take module from abc and then import class ABC , abstractmethod\n",
    "- now in designing of abstract class , we decorate the methods by @abstractmethod.\n",
    "now the class is becomes abstract class and then in other class we can use this absract class property.\n",
    "by using abstract classse we can achieve data abstraction."
   ]
  },
  {
   "cell_type": "markdown",
   "id": "b0496ac2-a6e7-4222-b504-da0a5256eb6f",
   "metadata": {},
   "source": [
    "Q5. Can we create an instance of an abstract class? Explain your answer."
   ]
  },
  {
   "cell_type": "markdown",
   "id": "86a13bbf-286d-49eb-bfd6-3023f45fbdf7",
   "metadata": {},
   "source": [
    "ANS. NO.\n",
    "- because  the purpose for designs it for blueprint or skeleton of our programme. \n",
    "- it is an incomplete class that contains abstract methods without any implementetion .An abstract class acts like a template or an empty structure.\n",
    "- therefore, it cannot be instantiated directly. but they can be subclassed , When an abstract class is subclassed, the subclass usually provides implementations for all of the abstract methods in its parent class."
   ]
  },
  {
   "cell_type": "code",
   "execution_count": null,
   "id": "3f68ae3a-0cc2-4fd1-bb88-0f3ddd997cc0",
   "metadata": {},
   "outputs": [],
   "source": []
  }
 ],
 "metadata": {
  "kernelspec": {
   "display_name": "Python 3 (ipykernel)",
   "language": "python",
   "name": "python3"
  },
  "language_info": {
   "codemirror_mode": {
    "name": "ipython",
    "version": 3
   },
   "file_extension": ".py",
   "mimetype": "text/x-python",
   "name": "python",
   "nbconvert_exporter": "python",
   "pygments_lexer": "ipython3",
   "version": "3.10.8"
  }
 },
 "nbformat": 4,
 "nbformat_minor": 5
}
