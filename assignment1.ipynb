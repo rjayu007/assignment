{
 "cells": [
  {
   "cell_type": "code",
   "execution_count": 38,
   "id": "86bdd57d-04ef-4e9d-bf93-66e44bf2dfaa",
   "metadata": {},
   "outputs": [],
   "source": [
    "# Q1. Create one variable containing following type of data:\n",
    "\n",
    "#(i)\tstring\n",
    "\n",
    "#(ii)list\n",
    "\n",
    "#(iii)float\n",
    "\n",
    "#(iv)tuple\n",
    "\n",
    "a = \"jaydeep\"\n",
    "b = [120,5.11,4+5j,\"jay\",True]\n",
    "c = 11.25\n",
    "tuple = ( \"hi python\" ,\"my name is jaydeep\" , 125,[1,11.25,5+6j] )\n"
   ]
  },
  {
   "cell_type": "code",
   "execution_count": 39,
   "id": "d3e022a1-2ffe-49e1-ab85-819ee11677c2",
   "metadata": {},
   "outputs": [
    {
     "data": {
      "text/plain": [
       "'jaydeep'"
      ]
     },
     "execution_count": 39,
     "metadata": {},
     "output_type": "execute_result"
    }
   ],
   "source": [
    "a"
   ]
  },
  {
   "cell_type": "code",
   "execution_count": 40,
   "id": "0a6f8cfc-880a-4e34-8dc2-e4575d4c75aa",
   "metadata": {},
   "outputs": [
    {
     "data": {
      "text/plain": [
       "[120, 5.11, (4+5j), 'jay', True]"
      ]
     },
     "execution_count": 40,
     "metadata": {},
     "output_type": "execute_result"
    }
   ],
   "source": [
    "b"
   ]
  },
  {
   "cell_type": "code",
   "execution_count": 41,
   "id": "33016e98-dcb4-4452-b291-0de60d69c010",
   "metadata": {},
   "outputs": [
    {
     "data": {
      "text/plain": [
       "11.25"
      ]
     },
     "execution_count": 41,
     "metadata": {},
     "output_type": "execute_result"
    }
   ],
   "source": [
    "c"
   ]
  },
  {
   "cell_type": "code",
   "execution_count": 42,
   "id": "8f3c539b-e8e5-4f69-b290-e94bb75da8a9",
   "metadata": {},
   "outputs": [
    {
     "data": {
      "text/plain": [
       "('hi python', 'my name is jaydeep', 125, [1, 11.25, (5+6j)])"
      ]
     },
     "execution_count": 42,
     "metadata": {},
     "output_type": "execute_result"
    }
   ],
   "source": [
    "tuple"
   ]
  },
  {
   "cell_type": "code",
   "execution_count": 43,
   "id": "ee7c4e6e-0957-4ce5-9692-c1706af8536b",
   "metadata": {},
   "outputs": [],
   "source": [
    "#Q2. Given are some following variables containing data:\n",
    "\n",
    "#(i)\tvar1 = ‘ ‘\n",
    "\n",
    "#(ii)\tvar2 = ‘[ DS , ML , Python]’\n",
    "\n",
    "#(iii)\tvar3 = [ ‘DS’ , ’ML’ , ‘Python’ ]\n",
    "\n",
    "#(iv)\tvar4 = 1.\n",
    "\n",
    "# What will be the data type of the above given variable\n",
    "\n",
    "var1 = ' '\n",
    "var2 = '[ds , ml ,python]'\n",
    "var3 = ['ds' , 'ml' ,'python']\n",
    "var4 = 1"
   ]
  },
  {
   "cell_type": "code",
   "execution_count": 44,
   "id": "da0681b7-22c0-47ea-a50d-d830f49382dc",
   "metadata": {},
   "outputs": [
    {
     "data": {
      "text/plain": [
       "str"
      ]
     },
     "execution_count": 44,
     "metadata": {},
     "output_type": "execute_result"
    }
   ],
   "source": [
    "type(var1)"
   ]
  },
  {
   "cell_type": "code",
   "execution_count": 45,
   "id": "71d01a8c-03c4-4910-b7cf-15765386eea1",
   "metadata": {},
   "outputs": [
    {
     "data": {
      "text/plain": [
       "str"
      ]
     },
     "execution_count": 45,
     "metadata": {},
     "output_type": "execute_result"
    }
   ],
   "source": [
    "type(var2)"
   ]
  },
  {
   "cell_type": "code",
   "execution_count": 46,
   "id": "fb1ec309-27bc-48db-adac-f272cef33e5c",
   "metadata": {},
   "outputs": [
    {
     "data": {
      "text/plain": [
       "list"
      ]
     },
     "execution_count": 46,
     "metadata": {},
     "output_type": "execute_result"
    }
   ],
   "source": [
    "type(var3)"
   ]
  },
  {
   "cell_type": "code",
   "execution_count": 47,
   "id": "0470de8c-3ed7-4abd-87b2-6c15676aff64",
   "metadata": {},
   "outputs": [
    {
     "data": {
      "text/plain": [
       "int"
      ]
     },
     "execution_count": 47,
     "metadata": {},
     "output_type": "execute_result"
    }
   ],
   "source": [
    "type(var4)"
   ]
  },
  {
   "cell_type": "code",
   "execution_count": 48,
   "id": "7e6d1109-edc5-4704-b83b-25dc796e6639",
   "metadata": {},
   "outputs": [],
   "source": [
    "#Q3. Explain the use of the following operators using an example:\n",
    "\n",
    "#(i)\t/\n",
    "\n",
    "#(ii)\t% \n",
    "\n",
    "#(iii)\t//\n",
    "\n",
    "#(iv)\t**"
   ]
  },
  {
   "cell_type": "code",
   "execution_count": 49,
   "id": "862e62bc-941b-42e5-98dd-cd23125e6a51",
   "metadata": {},
   "outputs": [],
   "source": [
    "# 1. / - for the use of division\n",
    "a = 20/5.5"
   ]
  },
  {
   "cell_type": "code",
   "execution_count": 50,
   "id": "31f0d5a1-c577-4d21-9907-2c140ed71ff5",
   "metadata": {},
   "outputs": [
    {
     "data": {
      "text/plain": [
       "3.6363636363636362"
      ]
     },
     "execution_count": 50,
     "metadata": {},
     "output_type": "execute_result"
    }
   ],
   "source": [
    "a"
   ]
  },
  {
   "cell_type": "code",
   "execution_count": 51,
   "id": "f72ee91c-4589-42fb-8c3c-55fc2ee42ede",
   "metadata": {},
   "outputs": [],
   "source": [
    "# 2. % - for the use of modulus\n",
    "a1 = 100 % 10"
   ]
  },
  {
   "cell_type": "code",
   "execution_count": 52,
   "id": "e3ec41cc-9a6d-481e-8a33-1a2cca12beb2",
   "metadata": {},
   "outputs": [
    {
     "data": {
      "text/plain": [
       "0"
      ]
     },
     "execution_count": 52,
     "metadata": {},
     "output_type": "execute_result"
    }
   ],
   "source": [
    "a1"
   ]
  },
  {
   "cell_type": "code",
   "execution_count": 53,
   "id": "03d014b3-9673-46ba-8236-d771d6b9424e",
   "metadata": {},
   "outputs": [],
   "source": [
    "# 3. // - floor division\n",
    "a2 = 20 // 5.5"
   ]
  },
  {
   "cell_type": "code",
   "execution_count": 54,
   "id": "f0e1302d-09fb-45a6-8b94-cdfe7d8f7c94",
   "metadata": {},
   "outputs": [
    {
     "data": {
      "text/plain": [
       "3.0"
      ]
     },
     "execution_count": 54,
     "metadata": {},
     "output_type": "execute_result"
    }
   ],
   "source": [
    "a2"
   ]
  },
  {
   "cell_type": "code",
   "execution_count": 55,
   "id": "caa0b8a1-fbf2-427f-afd4-ea1b10ca8d46",
   "metadata": {},
   "outputs": [],
   "source": [
    "# 4. ** - exponent \n",
    "a3 = 2**3"
   ]
  },
  {
   "cell_type": "code",
   "execution_count": 56,
   "id": "87c844ab-05c8-4faf-8f1a-bb6c13fe9752",
   "metadata": {},
   "outputs": [
    {
     "data": {
      "text/plain": [
       "8"
      ]
     },
     "execution_count": 56,
     "metadata": {},
     "output_type": "execute_result"
    }
   ],
   "source": [
    "a3"
   ]
  },
  {
   "cell_type": "code",
   "execution_count": 57,
   "id": "33570a86-89e5-4bf1-8b35-6ec72d5a6f7c",
   "metadata": {},
   "outputs": [
    {
     "name": "stdout",
     "output_type": "stream",
     "text": [
      "11\n",
      "<class 'int'>\n",
      "25.5\n",
      "<class 'float'>\n",
      "True\n",
      "<class 'bool'>\n",
      "0b1010\n",
      "<class 'str'>\n",
      "(4+5j)\n",
      "<class 'complex'>\n",
      "jay\n",
      "<class 'str'>\n",
      "range(0, 10)\n",
      "<class 'range'>\n",
      "False\n",
      "<class 'bool'>\n",
      "1000\n",
      "<class 'int'>\n",
      "112\n",
      "<class 'str'>\n"
     ]
    }
   ],
   "source": [
    "# Q4. Create a list of length 10 of your choice containing multiple types of data. Using for loop print the element and its data type.\n",
    "\n",
    "l = [ 11  , 25.50 , True , bin(10) , 4+5j, 'jay' , range(10),False, 1000 , '112']\n",
    "for i in l :\n",
    "    print(i)\n",
    "    print(type(i))"
   ]
  },
  {
   "cell_type": "code",
   "execution_count": 58,
   "id": "4eb03b91-0a33-430d-b85e-da7891e762f4",
   "metadata": {},
   "outputs": [
    {
     "name": "stdin",
     "output_type": "stream",
     "text": [
      "Enter the value of A:  1000\n",
      "Enter the value of B:  5\n"
     ]
    },
    {
     "name": "stdout",
     "output_type": "stream",
     "text": [
      "Number A is purely divisible by B  3  times.\n"
     ]
    }
   ],
   "source": [
    "# Q5. Using a while loop, verify if the number A is purely divisible by number B and if so then how many times it can be divisiblv\n",
    "A = int(input(\"Enter the value of A: \"))\n",
    "B = int(input(\"Enter the value of B: \"))\n",
    "\n",
    "count = 0\n",
    "\n",
    "while A % B == 0:\n",
    "    count += 1\n",
    "    A = A / B\n",
    "\n",
    "if count > 0:\n",
    "    print(\"Number A is purely divisible by B \", count, \" times.\")\n",
    "else:\n",
    "    print(\"Number A is not purely divisible by B.\")"
   ]
  },
  {
   "cell_type": "code",
   "execution_count": 59,
   "id": "86d050ac-6b3d-40cb-94cf-eea0a937d0bb",
   "metadata": {},
   "outputs": [
    {
     "name": "stdout",
     "output_type": "stream",
     "text": [
      "12\n",
      "30\n",
      "120\n",
      "225\n",
      "555\n",
      "300\n",
      "900\n",
      "999\n",
      "111\n",
      "441\n",
      "above int divisible by 3\n"
     ]
    }
   ],
   "source": [
    "# Q6. Create a list containing 25 int type data. Using for loop and if-else condition print if the element is divisible by 3 or not.\n",
    "\n",
    "l = [12,30,35,50,25,11,13,120,125,225,555,300,900,999,111,520,749,49,56,41,441,520,524,824,884]\n",
    "for i in l:\n",
    "    if i % 3==0:\n",
    "        print(i)\n",
    "else:\n",
    "     print ('above int divisible by 3')\n"
   ]
  },
  {
   "cell_type": "code",
   "execution_count": 60,
   "id": "5e8f4efc-a7b6-4315-98d8-a2852f461151",
   "metadata": {},
   "outputs": [],
   "source": [
    "#Q7. What do you understand about mutable and immutable data types? Give examples for both showing this property.\n",
    "# ans ; the colletion of data is mutable data types for example list, we can change in list data but in a particular string or \n",
    "#       data we cannot change this type of data is immutable.\n",
    "l = [ 123, 12,12.5,['bfb','njn',' nmd']]\n",
    "j = 'jaydeep'"
   ]
  },
  {
   "cell_type": "code",
   "execution_count": 61,
   "id": "9aa70740-fff4-41e1-bbb9-dc45c2075ae3",
   "metadata": {},
   "outputs": [],
   "source": [
    "#  change in list is mutable\n",
    "l[3]=12"
   ]
  },
  {
   "cell_type": "code",
   "execution_count": 62,
   "id": "350ad619-acb5-42cc-b403-1073da5e597a",
   "metadata": {},
   "outputs": [
    {
     "data": {
      "text/plain": [
       "[123, 12, 12.5, 12]"
      ]
     },
     "execution_count": 62,
     "metadata": {},
     "output_type": "execute_result"
    }
   ],
   "source": [
    "l"
   ]
  },
  {
   "cell_type": "code",
   "execution_count": 63,
   "id": "f8eccb63-ee8b-432c-9579-c02b26db03e4",
   "metadata": {},
   "outputs": [
    {
     "ename": "TypeError",
     "evalue": "'str' object does not support item assignment",
     "output_type": "error",
     "traceback": [
      "\u001b[0;31m---------------------------------------------------------------------------\u001b[0m",
      "\u001b[0;31mTypeError\u001b[0m                                 Traceback (most recent call last)",
      "Cell \u001b[0;32mIn[63], line 2\u001b[0m\n\u001b[1;32m      1\u001b[0m \u001b[38;5;66;03m# change in string is immutable\u001b[39;00m\n\u001b[0;32m----> 2\u001b[0m \u001b[43mj\u001b[49m\u001b[43m[\u001b[49m\u001b[38;5;241;43m2\u001b[39;49m\u001b[43m]\u001b[49m \u001b[38;5;241m=\u001b[39m \u001b[38;5;124m'\u001b[39m\u001b[38;5;124mh\u001b[39m\u001b[38;5;124m'\u001b[39m\n",
      "\u001b[0;31mTypeError\u001b[0m: 'str' object does not support item assignment"
     ]
    }
   ],
   "source": [
    "# change in string is immutable\n",
    "j[2] = 'h'"
   ]
  },
  {
   "cell_type": "code",
   "execution_count": 65,
   "id": "c3b01bcb-585c-4189-adca-adef1fb0bceb",
   "metadata": {},
   "outputs": [
    {
     "name": "stdout",
     "output_type": "stream",
     "text": [
      "[123, 12, 12.5, 12] jaydeep\n"
     ]
    }
   ],
   "source": [
    "print (l,j)"
   ]
  },
  {
   "cell_type": "code",
   "execution_count": null,
   "id": "ac4b43b3-39f3-463e-ae73-db3bcf7f641a",
   "metadata": {},
   "outputs": [],
   "source": []
  }
 ],
 "metadata": {
  "kernelspec": {
   "display_name": "Python 3 (ipykernel)",
   "language": "python",
   "name": "python3"
  },
  "language_info": {
   "codemirror_mode": {
    "name": "ipython",
    "version": 3
   },
   "file_extension": ".py",
   "mimetype": "text/x-python",
   "name": "python",
   "nbconvert_exporter": "python",
   "pygments_lexer": "ipython3",
   "version": "3.10.8"
  }
 },
 "nbformat": 4,
 "nbformat_minor": 5
}
