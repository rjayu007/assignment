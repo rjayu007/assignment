{
 "cells": [
  {
   "cell_type": "markdown",
   "id": "d2327445-dda7-450d-bc12-0197fac5d677",
   "metadata": {},
   "source": [
    "####Q1. How do you comment code in Python? What are the different types of comments?"
   ]
  },
  {
   "cell_type": "code",
   "execution_count": 1,
   "id": "d8f1f92d-5288-4492-84d4-a1eea8ed2bf8",
   "metadata": {},
   "outputs": [],
   "source": [
    "# we can take '#' or select markdown or triple quote\"\"\"(docstring) for comment in python\n",
    "# there are three types of comments 1. single line comment 2. multiple line comment 3.docstrings"
   ]
  },
  {
   "cell_type": "markdown",
   "id": "2b5bfd45-7802-4c70-8597-589ea7c17047",
   "metadata": {},
   "source": [
    "##Q2. What are variables in Python? How do you declare and assign values to variables?"
   ]
  },
  {
   "cell_type": "code",
   "execution_count": 8,
   "id": "fb9893ac-96c7-47f2-a0c3-bdfd8391280c",
   "metadata": {},
   "outputs": [
    {
     "name": "stdout",
     "output_type": "stream",
     "text": [
      "<class 'int'>\n",
      "<class 'str'>\n",
      "<class 'bool'>\n",
      "<class 'complex'>\n",
      "<class 'float'>\n",
      "<class 'list'>\n"
     ]
    }
   ],
   "source": [
    "#Python variable is a symbolic name that is a reference to an object, when the object is assigned the variable then we have to only call the variable and it gives us the object.\n",
    "\n",
    "# we can declare it by giving any alphanumeric name and then \"'='(assignment operator) (value : it will be int ,string ,boolean ,complex num,float,list)\n",
    "#for example \n",
    "l = [a ,a1, a2,a3,a4,a5]\n",
    "a= 25\n",
    "a1=\"jay\"\n",
    "a2= True\n",
    "a3= 4+5j\n",
    "a4 = 20.5\n",
    "a5=[1,2,2.5,4+5j,False,\"jaydeep\"]\n",
    "for i in l:\n",
    "    print(type(i))"
   ]
  },
  {
   "cell_type": "markdown",
   "id": "18046575-b69f-4e4b-80b9-72bb5eb55ff1",
   "metadata": {},
   "source": [
    "##Q3. How do you convert one data type to another in Python?"
   ]
  },
  {
   "cell_type": "code",
   "execution_count": 25,
   "id": "53c03efb-02fb-4a0e-a2af-9b52037c5d01",
   "metadata": {},
   "outputs": [],
   "source": [
    "#we can convert data type by typecasting the variable\n",
    "a=123\n",
    "a1 =12.5\n",
    "a2 = 5+4j"
   ]
  },
  {
   "cell_type": "code",
   "execution_count": 26,
   "id": "4dcbfc3d-bc25-45e6-8c06-0261a1cb5e79",
   "metadata": {},
   "outputs": [
    {
     "data": {
      "text/plain": [
       "int"
      ]
     },
     "execution_count": 26,
     "metadata": {},
     "output_type": "execute_result"
    }
   ],
   "source": [
    "type(a)"
   ]
  },
  {
   "cell_type": "code",
   "execution_count": 27,
   "id": "e4537628-adf8-4d82-a0cd-96a1e7acb973",
   "metadata": {},
   "outputs": [
    {
     "data": {
      "text/plain": [
       "\"<class 'int'>\""
      ]
     },
     "execution_count": 27,
     "metadata": {},
     "output_type": "execute_result"
    }
   ],
   "source": [
    "str(type(a))"
   ]
  },
  {
   "cell_type": "code",
   "execution_count": 28,
   "id": "bb2cf905-794a-4ddd-8136-bac48a375a17",
   "metadata": {},
   "outputs": [
    {
     "data": {
      "text/plain": [
       "float"
      ]
     },
     "execution_count": 28,
     "metadata": {},
     "output_type": "execute_result"
    }
   ],
   "source": [
    "type(a1)"
   ]
  },
  {
   "cell_type": "code",
   "execution_count": 29,
   "id": "716a66a8-3920-4c47-9255-fc0a9c962968",
   "metadata": {},
   "outputs": [
    {
     "data": {
      "text/plain": [
       "12"
      ]
     },
     "execution_count": 29,
     "metadata": {},
     "output_type": "execute_result"
    }
   ],
   "source": [
    "int(a1)"
   ]
  },
  {
   "cell_type": "code",
   "execution_count": 30,
   "id": "5f4f03a5-eca8-4875-8e9f-bbac11dde44e",
   "metadata": {},
   "outputs": [
    {
     "data": {
      "text/plain": [
       "int"
      ]
     },
     "execution_count": 30,
     "metadata": {},
     "output_type": "execute_result"
    }
   ],
   "source": [
    "type(int(a1))"
   ]
  },
  {
   "cell_type": "code",
   "execution_count": 31,
   "id": "fee1af43-eb64-4631-9d20-dc5ef187dd13",
   "metadata": {},
   "outputs": [
    {
     "data": {
      "text/plain": [
       "123.0"
      ]
     },
     "execution_count": 31,
     "metadata": {},
     "output_type": "execute_result"
    }
   ],
   "source": [
    "float(a)"
   ]
  },
  {
   "cell_type": "code",
   "execution_count": 32,
   "id": "8202e15e-f825-461f-b8b0-15dfa243c2ed",
   "metadata": {},
   "outputs": [
    {
     "data": {
      "text/plain": [
       "'123'"
      ]
     },
     "execution_count": 32,
     "metadata": {},
     "output_type": "execute_result"
    }
   ],
   "source": [
    "str(a)"
   ]
  },
  {
   "cell_type": "code",
   "execution_count": 35,
   "id": "d1c47a90-3bf4-476b-b171-80e532b59f71",
   "metadata": {},
   "outputs": [
    {
     "data": {
      "text/plain": [
       "(123+0j)"
      ]
     },
     "execution_count": 35,
     "metadata": {},
     "output_type": "execute_result"
    }
   ],
   "source": [
    "complex(a)"
   ]
  },
  {
   "cell_type": "code",
   "execution_count": 39,
   "id": "6835e0b8-4d72-4ec9-bd3a-9482b5c9566c",
   "metadata": {},
   "outputs": [
    {
     "data": {
      "text/plain": [
       "[0, 1, 2, 3, 4]"
      ]
     },
     "execution_count": 39,
     "metadata": {},
     "output_type": "execute_result"
    }
   ],
   "source": [
    "list(range(5))"
   ]
  },
  {
   "cell_type": "markdown",
   "id": "e0b63836-8356-4ac9-aae3-192af69244a8",
   "metadata": {},
   "source": [
    "##Q4. How do you write and execute a Python script from the command line?"
   ]
  },
  {
   "cell_type": "markdown",
   "id": "b1412c3d-fc91-4d74-adc9-69a58d460c04",
   "metadata": {},
   "source": [
    "ans -You have to write the script and save it and then in command prompt you have to navigate to the folder where your script is. then you can run the scriopt with command python scriptname"
   ]
  },
  {
   "cell_type": "markdown",
   "id": "dcdf89e7-953f-42d2-97a3-b2549257bf55",
   "metadata": {},
   "source": [
    "##Q5. Given a list my_list = [1, 2, 3, 4, 5], write the code to slice the list and obtain the sub-list [2, 3]."
   ]
  },
  {
   "cell_type": "code",
   "execution_count": 62,
   "id": "806ed03a-c874-4d30-8cda-3cf02e3da54b",
   "metadata": {},
   "outputs": [],
   "source": [
    " my_list = [1, 2, 3, 4, 5]\n",
    "sub_list =[]\n",
    "for i in range(len(my_list)):\n",
    "    if 1<i<4:\n",
    "        sub_list.append(i)"
   ]
  },
  {
   "cell_type": "code",
   "execution_count": 63,
   "id": "8a6ea0e2-21e5-44bf-8cab-d752bad37f91",
   "metadata": {},
   "outputs": [
    {
     "data": {
      "text/plain": [
       "[2, 3]"
      ]
     },
     "execution_count": 63,
     "metadata": {},
     "output_type": "execute_result"
    }
   ],
   "source": [
    "sub_list"
   ]
  },
  {
   "cell_type": "markdown",
   "id": "821c9af3-701b-42e5-ad57-562fc7b8a1d8",
   "metadata": {},
   "source": [
    "##Q6. What is a complex number in mathematics, and how is it represented in Python?"
   ]
  },
  {
   "cell_type": "markdown",
   "id": "2e1c04e2-0991-4746-bb0e-588160ac4878",
   "metadata": {},
   "source": [
    "ans -complex number is made of real number and imaginary number\n",
    "in python it is denoted by (x+yj)"
   ]
  },
  {
   "cell_type": "markdown",
   "id": "ff3a1904-6573-45cc-be29-9c9830eee310",
   "metadata": {},
   "source": [
    "Q7. What is the correct way to declare a variable named age and assign the value 25 to it?"
   ]
  },
  {
   "cell_type": "code",
   "execution_count": 64,
   "id": "f2daeb46-b2ad-495c-a36d-5ca01391e736",
   "metadata": {},
   "outputs": [],
   "source": [
    "age= 25"
   ]
  },
  {
   "cell_type": "markdown",
   "id": "207a2912-0628-4215-9bd4-50defe5d7e3f",
   "metadata": {},
   "source": [
    "Q8. Declare a variable named price and assign the value 9.99 to it. What data type does this variable\n",
    "belong to?"
   ]
  },
  {
   "cell_type": "code",
   "execution_count": 65,
   "id": "daf5ceed-081d-4f26-837c-790bb4603c2e",
   "metadata": {},
   "outputs": [],
   "source": [
    "price= 9.99"
   ]
  },
  {
   "cell_type": "code",
   "execution_count": 66,
   "id": "6a53bb38-5fd5-4000-8f2f-aedf13a4fa71",
   "metadata": {},
   "outputs": [
    {
     "data": {
      "text/plain": [
       "float"
      ]
     },
     "execution_count": 66,
     "metadata": {},
     "output_type": "execute_result"
    }
   ],
   "source": [
    "type(price)"
   ]
  },
  {
   "cell_type": "markdown",
   "id": "4e2465e6-fdcd-44a4-b485-974478bf1c41",
   "metadata": {},
   "source": [
    "Q9. Create a variable named name and assign your full name to it as a string. How would you print the\n",
    "value of this variable?"
   ]
  },
  {
   "cell_type": "code",
   "execution_count": 67,
   "id": "1aa7430a-175e-4fb7-afea-8e675f8628b7",
   "metadata": {},
   "outputs": [],
   "source": [
    "name = 'Raval Jaydeep'"
   ]
  },
  {
   "cell_type": "code",
   "execution_count": 71,
   "id": "9d6af4e8-c809-4af3-a078-69f3c7288887",
   "metadata": {},
   "outputs": [
    {
     "name": "stdout",
     "output_type": "stream",
     "text": [
      "Raval Jaydeep\n"
     ]
    }
   ],
   "source": [
    "print(name)"
   ]
  },
  {
   "cell_type": "markdown",
   "id": "d1324017-2a1b-4a88-a64c-fc6e853b1f93",
   "metadata": {},
   "source": [
    "Q10. Given the string \"Hello, World!\", extract the substring \"World\"."
   ]
  },
  {
   "cell_type": "code",
   "execution_count": 85,
   "id": "20de06b5-1f2a-4e5e-84b1-5bc92df73bec",
   "metadata": {},
   "outputs": [],
   "source": [
    "a =\"Hello, World!\""
   ]
  },
  {
   "cell_type": "code",
   "execution_count": 86,
   "id": "06cdef23-9b4e-4f3a-b0eb-a512db4b4cd8",
   "metadata": {},
   "outputs": [
    {
     "data": {
      "text/plain": [
       "'World'"
      ]
     },
     "execution_count": 86,
     "metadata": {},
     "output_type": "execute_result"
    }
   ],
   "source": [
    "a[-6:-1]"
   ]
  },
  {
   "cell_type": "markdown",
   "id": "a19a9e81-3531-4609-abf8-3fec2adea18c",
   "metadata": {},
   "source": [
    "Q11. Create a variable named \"is_student\" and assign it a boolean value indicating whether you are\n",
    "currently a student or not."
   ]
  },
  {
   "cell_type": "code",
   "execution_count": 89,
   "id": "c11a18c0-02b1-4a28-9206-6a3251446844",
   "metadata": {},
   "outputs": [
    {
     "name": "stdout",
     "output_type": "stream",
     "text": [
      "he is student\n",
      "he is not student\n",
      "he is not student\n",
      "he is student\n",
      "he is student\n"
     ]
    }
   ],
   "source": [
    "is_student = [True ,False, False ,True ,True]\n",
    "for i in is_student:\n",
    "    if i ==1:\n",
    "        print(\"he is student\")\n",
    "    else:\n",
    "        print(\"he is not student\")"
   ]
  },
  {
   "cell_type": "code",
   "execution_count": null,
   "id": "812f09f7-0fa1-4427-9dab-d43e62d46d48",
   "metadata": {},
   "outputs": [],
   "source": []
  }
 ],
 "metadata": {
  "kernelspec": {
   "display_name": "Python 3 (ipykernel)",
   "language": "python",
   "name": "python3"
  },
  "language_info": {
   "codemirror_mode": {
    "name": "ipython",
    "version": 3
   },
   "file_extension": ".py",
   "mimetype": "text/x-python",
   "name": "python",
   "nbconvert_exporter": "python",
   "pygments_lexer": "ipython3",
   "version": "3.10.8"
  }
 },
 "nbformat": 4,
 "nbformat_minor": 5
}
