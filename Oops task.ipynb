{
 "cells": [
  {
   "cell_type": "markdown",
   "id": "d7c4909c-7a59-432b-8c7e-d036fd5bee5d",
   "metadata": {},
   "source": [
    "Q1, Create a vehicle class with an init method having instance variables as name_of_vehicle, max_speed\n",
    "and average_of_vehicle."
   ]
  },
  {
   "cell_type": "code",
   "execution_count": 20,
   "id": "d09d7176-7308-4d86-9423-40d2a41e3d04",
   "metadata": {},
   "outputs": [],
   "source": [
    "class vehicle:\n",
    "    \n",
    "    def __init__(self , name_of_vehicle, max_speed, average_of_vehicle):\n",
    "        self.name_of_vehicle = name_of_vehicle\n",
    "        self.max_speed = max_speed\n",
    "        self.average_of_vehicle= average_of_vehicle\n",
    "        \n",
    "    "
   ]
  },
  {
   "cell_type": "markdown",
   "id": "3d16e027-b4c0-4dc0-b882-b78526a4c011",
   "metadata": {},
   "source": [
    "Q2. Create a child class car from the vehicle class created in Que 1, which will inherit the vehicle class.\n",
    "Create a method named seating_capacity which takes capacity as an argument and returns the name of\n",
    "the vehicle and its seating capacity."
   ]
  },
  {
   "cell_type": "code",
   "execution_count": 21,
   "id": "8d3c6770-ad3d-4b5a-a604-70bd09e9403c",
   "metadata": {},
   "outputs": [],
   "source": [
    "class car(vehicle):\n",
    "        \n",
    "    def seating_capacity(self,capacity):\n",
    "        return f\"the {self.name_of_vehicle} has a seating capacity of {capacity}\"        \n",
    "    \n",
    "    "
   ]
  },
  {
   "cell_type": "code",
   "execution_count": 22,
   "id": "6843bf27-deae-4a79-82c8-f3778a2750eb",
   "metadata": {},
   "outputs": [],
   "source": [
    "car_details = car(\"alto\",110,20)"
   ]
  },
  {
   "cell_type": "code",
   "execution_count": 23,
   "id": "8bed6de6-cf84-46e5-b61e-35dc017e9d60",
   "metadata": {},
   "outputs": [
    {
     "data": {
      "text/plain": [
       "'alto'"
      ]
     },
     "execution_count": 23,
     "metadata": {},
     "output_type": "execute_result"
    }
   ],
   "source": [
    "car_details.name_of_vehicle"
   ]
  },
  {
   "cell_type": "code",
   "execution_count": 25,
   "id": "ff43184a-f57c-488a-8821-2ca54bdbc4c9",
   "metadata": {},
   "outputs": [
    {
     "data": {
      "text/plain": [
       "'the alto has a seating capacity of 4'"
      ]
     },
     "execution_count": 25,
     "metadata": {},
     "output_type": "execute_result"
    }
   ],
   "source": [
    "car_details.seating_capacity(4)"
   ]
  },
  {
   "cell_type": "markdown",
   "id": "2f9aa7d0-9289-4491-a1ea-d0aea6e2c0e1",
   "metadata": {},
   "source": [
    "Q3. What is multiple inheritance? Write a python code to demonstrate multiple inheritance."
   ]
  },
  {
   "cell_type": "markdown",
   "id": "f363b2c9-4328-46ce-a191-a7b3fe9b8637",
   "metadata": {},
   "source": [
    "ANS. when a class can be derived from more than one base class this type of inheritance is called multiple inheritance. in multiple inheritances all the feature of the base classes are inherited into the derived class ."
   ]
  },
  {
   "cell_type": "code",
   "execution_count": 15,
   "id": "4a142cae-98eb-4cb1-b2ea-63bb19895d18",
   "metadata": {},
   "outputs": [],
   "source": [
    "class mobile_number:\n",
    "    \n",
    "    def customer_number(self):\n",
    "        return 9845474554\n",
    "    \n",
    "class name:\n",
    "    \n",
    "    def customer_name(self):\n",
    "        return \"raju\"    \n",
    "    \n",
    "class email_id:\n",
    "    def customer_email(self):\n",
    "        return \"raju@gmail.com\"\n",
    "    \n",
    "class customer_details(mobile_number, name, email_id):\n",
    "    pass"
   ]
  },
  {
   "cell_type": "code",
   "execution_count": 16,
   "id": "0a617b33-333b-44e8-92e6-cccd2205808b",
   "metadata": {},
   "outputs": [],
   "source": [
    "customer_details_obj=customer_details()"
   ]
  },
  {
   "cell_type": "code",
   "execution_count": 17,
   "id": "8131217f-ad5a-48f6-913a-9aa06dfa4824",
   "metadata": {},
   "outputs": [
    {
     "data": {
      "text/plain": [
       "9845474554"
      ]
     },
     "execution_count": 17,
     "metadata": {},
     "output_type": "execute_result"
    }
   ],
   "source": [
    "customer_details_obj.customer_number()"
   ]
  },
  {
   "cell_type": "code",
   "execution_count": 18,
   "id": "f679d8a5-4dcd-45a5-91b6-a926a438d49f",
   "metadata": {},
   "outputs": [
    {
     "data": {
      "text/plain": [
       "'raju'"
      ]
     },
     "execution_count": 18,
     "metadata": {},
     "output_type": "execute_result"
    }
   ],
   "source": [
    "customer_details_obj.customer_name()"
   ]
  },
  {
   "cell_type": "code",
   "execution_count": 19,
   "id": "7f5b066a-052c-4489-8a09-6713d53b5b7e",
   "metadata": {},
   "outputs": [
    {
     "data": {
      "text/plain": [
       "'raju@gmail.com'"
      ]
     },
     "execution_count": 19,
     "metadata": {},
     "output_type": "execute_result"
    }
   ],
   "source": [
    "customer_details_obj.customer_email()"
   ]
  },
  {
   "cell_type": "markdown",
   "id": "9166a9e1-4bda-442a-9a9e-8c6987a143c9",
   "metadata": {},
   "source": [
    "Q4. What are getter and setter in python? Create a class and create a getter and a setter method in this\n",
    "class."
   ]
  },
  {
   "cell_type": "markdown",
   "id": "0562f69d-3797-45de-8851-c4c45aad121c",
   "metadata": {},
   "source": [
    "ANS. getter- the getter is a method that is  used in object oriented programming to access a class's private attributes. \n",
    "\n",
    "setters - the setter is a  method that is used to set the property's value. it is very useful in object oriented programming to set the value of private attributes in a class\n",
    "\n",
    "in general , getters and setters are mainly used to ensure the data encapsulation in Oops"
   ]
  },
  {
   "cell_type": "code",
   "execution_count": 117,
   "id": "c4dd81a8-2313-47a0-8c3b-bf352c99bd8a",
   "metadata": {},
   "outputs": [],
   "source": [
    "class personal_details:\n",
    "    \n",
    "    def __init__(self, name_of_person ,age,phone_number):\n",
    "        self.__name_of_person = name_of_person\n",
    "        self.__age = age\n",
    "        self.__phone_number = phone_number\n",
    "        \n",
    "    @property\n",
    "    def personal_details_access(self):\n",
    "        return self.__name_of_person , self.__age, self.__phone_number \n",
    "    \n",
    "    \n",
    "    @personal_details_access.setter\n",
    "    def person_details_set(self,age):\n",
    "        if age<0 or age>200:\n",
    "            pass\n",
    "        else:\n",
    "            self.__age=age"
   ]
  },
  {
   "cell_type": "code",
   "execution_count": 118,
   "id": "df733a57-0a87-47ca-b6df-fe8269971386",
   "metadata": {},
   "outputs": [],
   "source": [
    "personal_details_obj =personal_details(\"raju\",25,7894561234)"
   ]
  },
  {
   "cell_type": "code",
   "execution_count": 119,
   "id": "822cbd04-d273-4ec0-bb08-201b4d710bf2",
   "metadata": {},
   "outputs": [
    {
     "data": {
      "text/plain": [
       "('raju', 25, 7894561234)"
      ]
     },
     "execution_count": 119,
     "metadata": {},
     "output_type": "execute_result"
    }
   ],
   "source": [
    "personal_details_obj.personal_details_access"
   ]
  },
  {
   "cell_type": "code",
   "execution_count": 120,
   "id": "1a00503c-6485-468c-a4b0-9463c694579e",
   "metadata": {},
   "outputs": [],
   "source": [
    "personal_details_obj.person_details_set=205\n"
   ]
  },
  {
   "cell_type": "code",
   "execution_count": 121,
   "id": "68d59bf8-c14f-4165-a25e-1edd62a24c35",
   "metadata": {},
   "outputs": [
    {
     "data": {
      "text/plain": [
       "('raju', 25, 7894561234)"
      ]
     },
     "execution_count": 121,
     "metadata": {},
     "output_type": "execute_result"
    }
   ],
   "source": [
    "personal_details_obj.person_details_set"
   ]
  },
  {
   "cell_type": "code",
   "execution_count": 122,
   "id": "439a2799-bcad-4888-a3b0-0e0d6b42a2a4",
   "metadata": {},
   "outputs": [],
   "source": [
    "personal_details_obj.person_details_set=-12"
   ]
  },
  {
   "cell_type": "code",
   "execution_count": 123,
   "id": "d8e36cf3-7e23-49be-a168-f9278db4b9d0",
   "metadata": {},
   "outputs": [
    {
     "data": {
      "text/plain": [
       "('raju', 25, 7894561234)"
      ]
     },
     "execution_count": 123,
     "metadata": {},
     "output_type": "execute_result"
    }
   ],
   "source": [
    "personal_details_obj.person_details_set"
   ]
  },
  {
   "cell_type": "code",
   "execution_count": 124,
   "id": "fdd03f72-99b8-48d4-8f7b-5315ad341c1f",
   "metadata": {},
   "outputs": [],
   "source": [
    "personal_details_obj.person_details_set=100"
   ]
  },
  {
   "cell_type": "code",
   "execution_count": 125,
   "id": "a2e82082-12d8-44a4-aa07-cfba3c02a315",
   "metadata": {},
   "outputs": [
    {
     "data": {
      "text/plain": [
       "('raju', 100, 7894561234)"
      ]
     },
     "execution_count": 125,
     "metadata": {},
     "output_type": "execute_result"
    }
   ],
   "source": [
    "personal_details_obj.person_details_set"
   ]
  },
  {
   "cell_type": "markdown",
   "id": "30853abe-e4e9-499e-9b73-513b055b1cd5",
   "metadata": {},
   "source": [
    "Q5.What is method overriding in python? Write a python code to demonstrate method overriding."
   ]
  },
  {
   "cell_type": "markdown",
   "id": "92010342-b29b-4416-9a40-78a757e8cbb4",
   "metadata": {},
   "source": [
    "ANS. method overriding in python is subclass that inherits the superclass properties and methods,  but can override the superclass methods ."
   ]
  },
  {
   "cell_type": "code",
   "execution_count": 136,
   "id": "602f6453-1282-49de-9138-a2b1cd672a71",
   "metadata": {},
   "outputs": [],
   "source": [
    "class animal:\n",
    "    \n",
    "    def sound(self):\n",
    "        print(\"animals makes sounds\")\n",
    "               \n",
    "class dog(animal):\n",
    "    \n",
    "    def sound(self):\n",
    "        print(\"dog has a sound wof! wof!\")\n",
    "    \n",
    "    \n",
    "    \n",
    "    "
   ]
  },
  {
   "cell_type": "code",
   "execution_count": 137,
   "id": "88c5a421-8192-4972-9f2b-9b6f8a0771fd",
   "metadata": {},
   "outputs": [],
   "source": [
    "dog =dog()"
   ]
  },
  {
   "cell_type": "code",
   "execution_count": 138,
   "id": "faf7251e-90f8-419b-89fb-80ca95181df5",
   "metadata": {},
   "outputs": [
    {
     "name": "stdout",
     "output_type": "stream",
     "text": [
      "dog has a sound wof! wof!\n"
     ]
    }
   ],
   "source": [
    "dog.sound()"
   ]
  },
  {
   "cell_type": "code",
   "execution_count": null,
   "id": "95cfae1e-d337-41af-82c6-6a19bf0e8e99",
   "metadata": {},
   "outputs": [],
   "source": []
  }
 ],
 "metadata": {
  "kernelspec": {
   "display_name": "Python 3 (ipykernel)",
   "language": "python",
   "name": "python3"
  },
  "language_info": {
   "codemirror_mode": {
    "name": "ipython",
    "version": 3
   },
   "file_extension": ".py",
   "mimetype": "text/x-python",
   "name": "python",
   "nbconvert_exporter": "python",
   "pygments_lexer": "ipython3",
   "version": "3.10.8"
  }
 },
 "nbformat": 4,
 "nbformat_minor": 5
}
