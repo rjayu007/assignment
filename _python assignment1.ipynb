{
 "cells": [
  {
   "cell_type": "markdown",
   "id": "cd298465-050f-45d9-b59d-f0b2035ce54e",
   "metadata": {},
   "source": [
    "#Q1. Which keyword is used to create a function? Create a function to return a list of odd numbers in the\n",
    "range of 1 to 25"
   ]
  },
  {
   "cell_type": "code",
   "execution_count": 1,
   "id": "fbd20d18-ad8c-4718-a574-4fb2bf57361a",
   "metadata": {},
   "outputs": [],
   "source": [
    "# def keyword is used to create a function.\n",
    "\n",
    "def test_odd():\n",
    "    l =[]\n",
    "    for i in range(25):\n",
    "        if i%2 != 0:\n",
    "            l.append(i)\n",
    "    return l"
   ]
  },
  {
   "cell_type": "code",
   "execution_count": 2,
   "id": "b746ba05-4b6a-432a-8d0f-639e237e2317",
   "metadata": {},
   "outputs": [
    {
     "data": {
      "text/plain": [
       "[1, 3, 5, 7, 9, 11, 13, 15, 17, 19, 21, 23]"
      ]
     },
     "execution_count": 2,
     "metadata": {},
     "output_type": "execute_result"
    }
   ],
   "source": [
    "test_odd()"
   ]
  },
  {
   "cell_type": "markdown",
   "id": "169ba430-37a0-45af-9ee8-1d2a5fbebdad",
   "metadata": {},
   "source": [
    "#Q2. Why *args and **kwargs is used in some functions? Create a function each for *args and **kwargs\n",
    "to demonstrate their use."
   ]
  },
  {
   "cell_type": "code",
   "execution_count": 3,
   "id": "13895ba8-440d-4386-b15a-aa32ea2cf6ca",
   "metadata": {},
   "outputs": [],
   "source": [
    "# *args in functions  is used to pass a number of arguments to a function\n",
    "# **kwargs in function is used to pass a number of arguments through variable as keyword\n",
    "\n",
    "# *args\n",
    "def _fun(*args):\n",
    "    return args\n"
   ]
  },
  {
   "cell_type": "code",
   "execution_count": 4,
   "id": "6b618945-f2d1-4d13-b981-6f6e287674ae",
   "metadata": {},
   "outputs": [
    {
     "data": {
      "text/plain": [
       "(1, 2, 3, 'jaydeep', 45.5, [1, 2, 3, 4])"
      ]
     },
     "execution_count": 4,
     "metadata": {},
     "output_type": "execute_result"
    }
   ],
   "source": [
    "_fun(1,2,3,\"jaydeep\",45.5,[1,2,3,4])"
   ]
  },
  {
   "cell_type": "code",
   "execution_count": 5,
   "id": "fb4f3b0c-ee45-42ab-9b1d-dbe1c045bcb9",
   "metadata": {},
   "outputs": [],
   "source": [
    "# **kwargs\n",
    "def _fun1(**kwargs):\n",
    "    return kwargs"
   ]
  },
  {
   "cell_type": "code",
   "execution_count": 6,
   "id": "3fa50827-afc9-4085-800a-38d764519a4d",
   "metadata": {},
   "outputs": [
    {
     "data": {
      "text/plain": [
       "{'a': [1, 2, 3],\n",
       " 'b': ['jaydeep', 'omkar', 'pwskills'],\n",
       " 'c': [45.5, 12.5],\n",
       " 'd': [(4+5j), (8+1j)],\n",
       " 'e': {12, 13, 14},\n",
       " 'f': {'num': 56789}}"
      ]
     },
     "execution_count": 6,
     "metadata": {},
     "output_type": "execute_result"
    }
   ],
   "source": [
    "_fun1(a=[1,2,3], b=[\"jaydeep\",\"omkar\",\"pwskills\"], c=[45.5,12.5], d=[4+5j , 8+1j] ,e ={12,12,13,14}, f={ \"num\":56789})"
   ]
  },
  {
   "cell_type": "markdown",
   "id": "607043ea-a9d1-43a7-8c8e-6f315bc734ab",
   "metadata": {},
   "source": [
    "#Q3. What is an iterator in python? Name the method used to initialise the iterator object and the method\n",
    "used for iteration. Use these methods to print the first five elements of the given list [2, 4, 6, 8, 10, 12, 14,\n",
    "16, 18, 20]."
   ]
  },
  {
   "cell_type": "markdown",
   "id": "8d5b4672-fa02-432d-b635-5960d68176d8",
   "metadata": {},
   "source": [
    "ans. An iterator in Python is an object that is used to iterate over iterable objects like lists, tuples, dicts, and sets.  the method used to initialise the iterator object is 'iter()' method and 'next()' method used for iteration "
   ]
  },
  {
   "cell_type": "code",
   "execution_count": 7,
   "id": "7767f308-68ac-49b3-a2a0-6046b8f9970d",
   "metadata": {},
   "outputs": [
    {
     "name": "stdout",
     "output_type": "stream",
     "text": [
      "2\n",
      "4\n",
      "6\n",
      "8\n",
      "10\n"
     ]
    }
   ],
   "source": [
    "l =  [2, 4, 6, 8, 10, 12, 14, 16, 18, 20]\n",
    "\n",
    "  # list is a builtin iterable object so we can iterate over it by for loop.\n",
    "for i in l :\n",
    "    if i == 12:\n",
    "        break\n",
    "    print(i)\n"
   ]
  },
  {
   "cell_type": "markdown",
   "id": "4021b35c-91e8-460a-a09e-98abcdc8454d",
   "metadata": {},
   "source": [
    "#Q4. What is a generator function in python? Why yield keyword is used? Give an example of a generator function."
   ]
  },
  {
   "cell_type": "markdown",
   "id": "9a70a9d7-79fc-46ad-a2c6-3dfdd767d1d8",
   "metadata": {},
   "source": [
    "ans. generator function is a functions that provides us the generator object that is iterable. this function is used to space utiliation. this function gives returns what we demand at a specific time , its returns us the value as we want at time but does not excecute at once . by yield keyword the generator function becomes.\n",
    "\n",
    "we use yield keyword to generates data as we want at time , because it gives us the data as we request and halts the code . when we  request again then it starts from where it left off. "
   ]
  },
  {
   "cell_type": "code",
   "execution_count": 8,
   "id": "dcf8c46b-0fbc-4eaa-b53e-43579be3a409",
   "metadata": {},
   "outputs": [],
   "source": [
    "def gen(n):\n",
    "    no =2\n",
    "    for i in range(n):\n",
    "        yield no**2\n",
    "        no =no +1"
   ]
  },
  {
   "cell_type": "code",
   "execution_count": 9,
   "id": "8c512daa-ac77-4d06-9cb4-29b136a984dc",
   "metadata": {},
   "outputs": [
    {
     "data": {
      "text/plain": [
       "<generator object gen at 0x7f73f3689a10>"
      ]
     },
     "execution_count": 9,
     "metadata": {},
     "output_type": "execute_result"
    }
   ],
   "source": [
    "gen(5)"
   ]
  },
  {
   "cell_type": "code",
   "execution_count": 10,
   "id": "f26cc76b-9016-4f4a-9d00-8705070cbda9",
   "metadata": {},
   "outputs": [
    {
     "name": "stdout",
     "output_type": "stream",
     "text": [
      "4\n",
      "9\n",
      "16\n",
      "25\n",
      "36\n"
     ]
    }
   ],
   "source": [
    "for i in gen(5):\n",
    "    print(i)"
   ]
  },
  {
   "cell_type": "markdown",
   "id": "a675b7f8-9fb9-4de7-a0d7-53e1ca004468",
   "metadata": {},
   "source": [
    "#Q5. Create a generator function for prime numbers less than 1000. Use the next() method to print thefirst 20 prime numbers."
   ]
  },
  {
   "cell_type": "code",
   "execution_count": 11,
   "id": "0c1534c3-3c49-4903-ac09-a31140a03c75",
   "metadata": {},
   "outputs": [],
   "source": [
    "\n",
    "def is_prime(n):\n",
    "    if n==0 or n==1:\n",
    "        return False\n",
    "    for i in range(2,n):\n",
    "        if n%i ==0:\n",
    "            return False\n",
    "    return True\n",
    "\n",
    "def get_prime():\n",
    "    num =2\n",
    "    while True:\n",
    "        if is_prime(num):\n",
    "            yield num\n",
    "        num=num+1"
   ]
  },
  {
   "cell_type": "code",
   "execution_count": 12,
   "id": "7ae9e329-7265-4d11-a202-cc19da59ec5c",
   "metadata": {},
   "outputs": [],
   "source": [
    "prime_gen = get_prime()"
   ]
  },
  {
   "cell_type": "code",
   "execution_count": 13,
   "id": "ff684cce-98a8-4e2f-836b-e27b2ebdff24",
   "metadata": {},
   "outputs": [
    {
     "name": "stdout",
     "output_type": "stream",
     "text": [
      "2\n",
      "3\n",
      "5\n",
      "7\n",
      "11\n",
      "13\n",
      "17\n",
      "19\n",
      "23\n",
      "29\n",
      "31\n",
      "37\n",
      "41\n",
      "43\n",
      "47\n",
      "53\n",
      "59\n",
      "61\n",
      "67\n",
      "71\n"
     ]
    }
   ],
   "source": [
    "for i in range(20):\n",
    "    print(next(prime_gen))"
   ]
  },
  {
   "cell_type": "markdown",
   "id": "bc940eb2-aaed-46a1-bc0b-3e53858a65b9",
   "metadata": {},
   "source": [
    "#Q6. Write a python program to print the first 10 Fibonacci numbers using a while loop."
   ]
  },
  {
   "cell_type": "code",
   "execution_count": 14,
   "id": "c4033088-7b7c-437e-936b-25c72970469b",
   "metadata": {},
   "outputs": [],
   "source": [
    "def fib_num():\n",
    "    a,b=0,1\n",
    "    while True:\n",
    "        yield a\n",
    "        a,b =b,a+b"
   ]
  },
  {
   "cell_type": "code",
   "execution_count": 15,
   "id": "726886f4-0c17-457d-8ec8-30127b5617f3",
   "metadata": {},
   "outputs": [],
   "source": [
    "fib = fib_num()"
   ]
  },
  {
   "cell_type": "code",
   "execution_count": 16,
   "id": "bff17e26-2df3-45c7-a9b1-df6ea03b2b8a",
   "metadata": {},
   "outputs": [
    {
     "name": "stdout",
     "output_type": "stream",
     "text": [
      "0\n",
      "1\n",
      "1\n",
      "2\n",
      "3\n",
      "5\n",
      "8\n",
      "13\n",
      "21\n",
      "34\n"
     ]
    }
   ],
   "source": [
    "for i in range(10):\n",
    "    print(next(fib))"
   ]
  },
  {
   "cell_type": "markdown",
   "id": "987d675d-2e6c-438a-9e43-66e18c7dc2c1",
   "metadata": {},
   "source": [
    "#Q7. Write a List Comprehension to iterate through the given string: ‘pwskills’.Expected output: ['p', 'w', 's', 'k', 'i', 'l', 'l', 's']"
   ]
  },
  {
   "cell_type": "code",
   "execution_count": 17,
   "id": "192740f6-e9ee-4fa5-99ac-f3fe8be517f4",
   "metadata": {},
   "outputs": [
    {
     "name": "stdout",
     "output_type": "stream",
     "text": [
      "['p', 'w', 's', 'k', 'i', 'l', 'l', 's']\n"
     ]
    }
   ],
   "source": [
    "a = 'pwskills'\n",
    "l =[i for i in a  ]\n",
    "print(l)"
   ]
  },
  {
   "cell_type": "markdown",
   "id": "b675f9d6-dfd3-4296-a2ec-ac90c23a5a25",
   "metadata": {},
   "source": [
    "#Q8. Write a python program to check whether a given number is Palindrome or not using a while loop."
   ]
  },
  {
   "cell_type": "code",
   "execution_count": 18,
   "id": "51603b36-e4cc-49e5-9aaf-e8d75721d2dd",
   "metadata": {},
   "outputs": [
    {
     "name": "stdin",
     "output_type": "stream",
     "text": [
      "Enter a number:  123\n"
     ]
    },
    {
     "name": "stdout",
     "output_type": "stream",
     "text": [
      "123 is not a palindrome!\n"
     ]
    }
   ],
   "source": [
    "def is_palindrome(number):\n",
    "    original_number = number\n",
    "    reversed_number = 0\n",
    "    \n",
    "    while number > 0:\n",
    "        digit = number % 10\n",
    "        reversed_number = (reversed_number * 10) + digit\n",
    "        number //= 10\n",
    "\n",
    "    return original_number == reversed_number\n",
    "\n",
    "# Test the function\n",
    "num = int(input(\"Enter a number: \"))\n",
    "if is_palindrome(num):\n",
    "    print(f\"{num} is a palindrome!\")\n",
    "else:\n",
    "    print(f\"{num} is not a palindrome!\")"
   ]
  },
  {
   "cell_type": "markdown",
   "id": "757d2cac-6b85-42fc-acf1-78b27afcd1c3",
   "metadata": {},
   "source": [
    "#Q9. Write a code to print odd numbers from 1 to 100 using list comprehension."
   ]
  },
  {
   "cell_type": "code",
   "execution_count": 19,
   "id": "af285239-60a6-43c6-a27f-5c99bbd85a06",
   "metadata": {},
   "outputs": [
    {
     "name": "stdout",
     "output_type": "stream",
     "text": [
      "[1, 3, 5, 7, 9, 11, 13, 15, 17, 19, 21, 23, 25, 27, 29, 31, 33, 35, 37, 39, 41, 43, 45, 47, 49, 51, 53, 55, 57, 59, 61, 63, 65, 67, 69, 71, 73, 75, 77, 79, 81, 83, 85, 87, 89, 91, 93, 95, 97, 99]\n"
     ]
    }
   ],
   "source": [
    "l = [i for i in range(100)]\n",
    "odd_num_list = [i for i in l if i%2==1]\n",
    "print(odd_num_list)"
   ]
  },
  {
   "cell_type": "code",
   "execution_count": null,
   "id": "34ca776a-36e4-4a6c-8084-bcfcfced19fb",
   "metadata": {},
   "outputs": [],
   "source": []
  }
 ],
 "metadata": {
  "kernelspec": {
   "display_name": "Python 3 (ipykernel)",
   "language": "python",
   "name": "python3"
  },
  "language_info": {
   "codemirror_mode": {
    "name": "ipython",
    "version": 3
   },
   "file_extension": ".py",
   "mimetype": "text/x-python",
   "name": "python",
   "nbconvert_exporter": "python",
   "pygments_lexer": "ipython3",
   "version": "3.10.8"
  }
 },
 "nbformat": 4,
 "nbformat_minor": 5
}
