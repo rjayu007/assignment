{
 "cells": [
  {
   "cell_type": "markdown",
   "id": "f8eeea94-2fac-44eb-9a15-211325adc568",
   "metadata": {},
   "source": [
    "Q1. Explain Class and Object with respect to Object-Oriented Programming. Give a suitable example."
   ]
  },
  {
   "cell_type": "markdown",
   "id": "8fc1a6d5-3d15-4afc-afd7-26034f877db8",
   "metadata": {},
   "source": [
    "ANS. class is  a user-defined bluprint for creating an object . object is an instance of a class. first step is what is my requirement(define requirement) and for that requirement what i have to do is  create something that  i get my required output, second thing is we have to make the organization for the requirement and that is my blueprint and with time we can add or change the blueprint as my requirement change, the process of making this blueprint is called class.The class creates a user-defined data structure, which holds its own data members and member functions and by this class we can create our object or instances to use and access the data.\n",
    "\n",
    "An object consists of:\n",
    "\n",
    "Identity: It gives a unique name to an object and enables one object to interact with other objects.                 \n",
    "State: It is represented by the attributes of an object. It also reflects the properties of an object.              \n",
    "Behavior: It is represented by the methods of an object. It also reflects the response of an object to other objects.\n",
    "\n",
    "classes are created by keyword class\n",
    "\n",
    "Declaring Claas Objects (Also called instantiating a class):\n",
    "\n",
    "When an object of a class is created, the class is said to be instantiated. All the instances share the attributes and the behavior of the class. But the values of those attributes, i.e. the state are unique for each object. A single class may have any number of instances."
   ]
  },
  {
   "cell_type": "code",
   "execution_count": 7,
   "id": "a84acb06-b98d-42a2-8119-209bd871ef26",
   "metadata": {},
   "outputs": [],
   "source": [
    "class dog:\n",
    "    name = \"husky\"\n",
    "    breed= \"siberian\"\n",
    "    \n",
    "    def nature_of_dog(self):\n",
    "        print(\"husky is very good pet\")"
   ]
  },
  {
   "cell_type": "code",
   "execution_count": 8,
   "id": "6c63f1c2-4dd4-4a85-98fb-c5b3422f0fb6",
   "metadata": {},
   "outputs": [],
   "source": [
    "dog1 =dog()"
   ]
  },
  {
   "cell_type": "code",
   "execution_count": 9,
   "id": "b13da840-2356-4635-aaf6-67d9ed290fdc",
   "metadata": {},
   "outputs": [
    {
     "data": {
      "text/plain": [
       "'siberian'"
      ]
     },
     "execution_count": 9,
     "metadata": {},
     "output_type": "execute_result"
    }
   ],
   "source": [
    "dog1.breed"
   ]
  },
  {
   "cell_type": "code",
   "execution_count": 10,
   "id": "210bfa93-808e-4f7c-9d21-beffce200576",
   "metadata": {},
   "outputs": [
    {
     "data": {
      "text/plain": [
       "'siberian'"
      ]
     },
     "execution_count": 10,
     "metadata": {},
     "output_type": "execute_result"
    }
   ],
   "source": [
    "dog1.breed"
   ]
  },
  {
   "cell_type": "code",
   "execution_count": 12,
   "id": "d3f39ad0-5c37-47a3-95e0-bbc01e8e2e14",
   "metadata": {},
   "outputs": [
    {
     "name": "stdout",
     "output_type": "stream",
     "text": [
      "husky is very good pet\n"
     ]
    }
   ],
   "source": [
    "dog1.nature_of_dog()"
   ]
  },
  {
   "cell_type": "markdown",
   "id": "62e34ddf-cf47-4e25-bc06-f0c44e629467",
   "metadata": {},
   "source": [
    "Q2. Name the four pillars of OOPs."
   ]
  },
  {
   "cell_type": "markdown",
   "id": "44141eda-de96-4196-8db5-07fd2226aa8d",
   "metadata": {},
   "source": [
    "ANS. the four pillars of OOPs is :\n",
    "1) polymorphism\n",
    "2) inheritance\n",
    "3) encapsulation\n",
    "4) abstraction"
   ]
  },
  {
   "cell_type": "markdown",
   "id": "13d25e00-90db-44d4-bb2e-8763225534d0",
   "metadata": {},
   "source": [
    "Q3. Explain why the __init__() function is used. Give a suitable example."
   ]
  },
  {
   "cell_type": "markdown",
   "id": "844786e7-18ed-416f-bfa2-b968a9196352",
   "metadata": {},
   "source": [
    "ANS. Constructors are generally used for instantiating an object. The task of constructors is to initialize(assign values) to the data members of the class when an object of the class is created. In Python the __init__() method is called the constructor.\n",
    "\n",
    "the init() function will assign values to the data member of the class and takes default or parameterized  argument from the user. when the instance is created of a object of the class .  the given argument will be passsed to__init__ method to initialize the object and binds the attributes with the given arguments.Similarly, many objects of the class can be created by passing with different  arguments.\n",
    "\n",
    "in the __init__ method we use first argument as self that represent or reference to the instance of a class."
   ]
  },
  {
   "cell_type": "code",
   "execution_count": 32,
   "id": "822f3a25-fb8d-487a-82f8-c95115a01d08",
   "metadata": {},
   "outputs": [],
   "source": [
    "class dog:\n",
    "    \n",
    "    def __init__(self, name , breed,nature):\n",
    "        self.name = name\n",
    "        self.breed= breed\n",
    "        self.nature = nature\n",
    "        \n",
    "    def dog_details(self):\n",
    "        return f\"the pet {self.name} of {self.breed} type breed is and very {self.nature}\""
   ]
  },
  {
   "cell_type": "code",
   "execution_count": 33,
   "id": "8d8a8a89-6f1f-4815-a146-8a102993933c",
   "metadata": {},
   "outputs": [],
   "source": [
    "dog1 =dog(\"husky\" ,\"siberian\",\"calm\" )\n",
    "dog2 = dog(\"pitbull\",\"american\",\"aggressive\")"
   ]
  },
  {
   "cell_type": "code",
   "execution_count": 34,
   "id": "25726d6f-b318-40cb-82d9-968b72aed0d1",
   "metadata": {},
   "outputs": [
    {
     "data": {
      "text/plain": [
       "'the pet husky of siberian type breed is and very calm'"
      ]
     },
     "execution_count": 34,
     "metadata": {},
     "output_type": "execute_result"
    }
   ],
   "source": [
    "dog1.dog_details()"
   ]
  },
  {
   "cell_type": "code",
   "execution_count": 36,
   "id": "0aeaef35-f394-4a17-ad31-9ae99490e766",
   "metadata": {},
   "outputs": [
    {
     "data": {
      "text/plain": [
       "'the pet pitbull of american type breed is and very aggressive'"
      ]
     },
     "execution_count": 36,
     "metadata": {},
     "output_type": "execute_result"
    }
   ],
   "source": [
    "dog2.dog_details()"
   ]
  },
  {
   "cell_type": "markdown",
   "id": "57eac994-4369-4658-a82e-b7c056aae229",
   "metadata": {},
   "source": [
    "Q4. Why self is used in OOPs?"
   ]
  },
  {
   "cell_type": "markdown",
   "id": "58298c76-9300-4e99-96d6-35e8c33b6b83",
   "metadata": {},
   "source": [
    "ANS. self represents the instance of the class. By using the “self”  we can access the attributes and methods of the class in python. It binds the attributes with the given arguments."
   ]
  },
  {
   "cell_type": "markdown",
   "id": "d7fbec22-e046-439b-be42-cb4f2368981a",
   "metadata": {},
   "source": [
    "Q5. What is inheritance? Give an example for each type of inheritance."
   ]
  },
  {
   "cell_type": "markdown",
   "id": "3e93129c-6e06-4dd0-8ccc-4660e75d90ac",
   "metadata": {},
   "source": [
    "Ans. when a class derived from another class.the child class will inherit all the public and protected poperties  and methods from the parent class. in addition , it can have it's own properties and methods this is called as inheritance.\n",
    "Derived class inherits features from the base class where new features can be added to it. this results in re-usability of code.\n",
    "\n",
    "Types of inheritance:\n",
    "1) single inheritance\n",
    "2) multiple inheritance\n",
    "3) multilevel inheritance\n",
    "4) hierarchical inheritance\n",
    "5) hybrid inheritance"
   ]
  },
  {
   "cell_type": "code",
   "execution_count": 1,
   "id": "1b16c7ee-7255-443e-8d71-9b58370e45e8",
   "metadata": {},
   "outputs": [],
   "source": [
    "# Single inheritance\n",
    "class animal:\n",
    "    def __init__(self,species):\n",
    "        self.species= species\n",
    "        \n",
    "    def make_sound(self):\n",
    "        print(\"sound made by the animal\")\n",
    "        \n",
    "        \n",
    "class dog(animal):\n",
    "    \n",
    "    def __init__(self,species,breed):\n",
    "        animal.__init__(self,species)\n",
    "        self.breed = breed\n",
    "        \n",
    "    def make_sound(self):\n",
    "        print(f\"the animal species of {self.species} breed {self.breed} is barks!\")\n",
    "        "
   ]
  },
  {
   "cell_type": "code",
   "execution_count": 2,
   "id": "798c6582-e4c6-45b5-a627-418fba2baa1c",
   "metadata": {},
   "outputs": [],
   "source": [
    "dog = dog(\"dog\",\"pitbull\")"
   ]
  },
  {
   "cell_type": "code",
   "execution_count": 3,
   "id": "0fc7e68f-109b-4e47-b72f-4bcd8ee81313",
   "metadata": {},
   "outputs": [
    {
     "name": "stdout",
     "output_type": "stream",
     "text": [
      "the animal species of dog breed pitbull is barks!\n"
     ]
    }
   ],
   "source": [
    "dog.make_sound()"
   ]
  },
  {
   "cell_type": "code",
   "execution_count": 55,
   "id": "87f843d5-5111-42b0-ac48-ce781c889dbb",
   "metadata": {},
   "outputs": [],
   "source": [
    "# Multiple inheritance\n",
    "\n",
    "class veg_animal:\n",
    "    def __init__(self, name_of_animal_veg):\n",
    "        self.name_of_animal_veg = name_of_animal_veg\n",
    "\n",
    "        \n",
    "class nonveg_animal:\n",
    "    \n",
    "    def __init__(self, name_of_animal_nonveg):\n",
    "        self.name_of_animal_nonveg= name_of_animal_nonveg\n",
    "\n",
    "        \n",
    "        \n",
    "class animal(veg_animal,nonveg_animal):\n",
    "    \n",
    "    def __init__(self, name_of_animal_veg, name_of_animal_nonveg):\n",
    "        veg_animal.__init__(self, name_of_animal_veg)\n",
    "        nonveg_animal.__init__(self,name_of_animal_nonveg)\n",
    "        \n",
    "    def type_of_animal(self):\n",
    "         return f\"the {self.name_of_animal_veg} is vegeterian and {self.name_of_animal_nonveg}  is nonvegeterian\"\n",
    "        \n",
    "    "
   ]
  },
  {
   "cell_type": "code",
   "execution_count": 56,
   "id": "258f6574-14a3-4437-96b6-3698336e53e6",
   "metadata": {},
   "outputs": [],
   "source": [
    "animal = animal(\"cow\",\"tiger\")"
   ]
  },
  {
   "cell_type": "code",
   "execution_count": 57,
   "id": "5ce6959b-f00c-481e-98e8-e5a57e5e4c51",
   "metadata": {},
   "outputs": [
    {
     "data": {
      "text/plain": [
       "'the cow is vegeterian and tiger  is nonvegeterian'"
      ]
     },
     "execution_count": 57,
     "metadata": {},
     "output_type": "execute_result"
    }
   ],
   "source": [
    "animal.type_of_animal()"
   ]
  },
  {
   "cell_type": "code",
   "execution_count": 56,
   "id": "04ce831e-fb31-4e77-a9bb-ba6de9cbeca1",
   "metadata": {},
   "outputs": [],
   "source": [
    "# multilevel inheritance\n",
    "\n",
    "class type_of_smartphone:\n",
    "    def __init__(self,  os_of_smartphone):\n",
    "        self.os_of_smartphone = os_of_smartphone\n",
    "        \n",
    "class brand_of_smartphone(type_of_smartphone):\n",
    "    def __init__(self , brand_name):\n",
    "        self.brand_name = brand_name\n",
    "\n",
    "        \n",
    "class model_of_smartphone(brand_of_smartphone):\n",
    "    def __init__(self,  model_name):\n",
    "         self.model_name = model_name\n",
    "\n",
    "            \n",
    "class price_of_smartphone(model_of_smartphone):\n",
    "    def __init__(self , os_of_smartphone , brand_name, model_name, price):\n",
    "        type_of_smartphone.__init__(self, os_of_smartphone)\n",
    "        brand_of_smartphone.__init__(self, brand_name)\n",
    "        model_of_smartphone.__init__(self, model_name)\n",
    "        self.price = price\n",
    "        \n",
    "    def smartphone_details(self):\n",
    "        return f\"The {self.os_of_smartphone} smartphone of brand {self.brand_name} model{self.model_name} smartphone and the price is rs{self.price}\" \n",
    "    \n"
   ]
  },
  {
   "cell_type": "code",
   "execution_count": 57,
   "id": "2fcf13d4-d90f-47de-a813-39edc0a4f1a8",
   "metadata": {},
   "outputs": [],
   "source": [
    "smartphone_details = price_of_smartphone(\"android\" , \"vivo\", \"v50\",25000)"
   ]
  },
  {
   "cell_type": "code",
   "execution_count": 58,
   "id": "275ec789-b40d-45a7-8c94-c28e02455d70",
   "metadata": {},
   "outputs": [
    {
     "data": {
      "text/plain": [
       "'The android smartphone of brand vivo modelv50 smartphone and the price is rs25000'"
      ]
     },
     "execution_count": 58,
     "metadata": {},
     "output_type": "execute_result"
    }
   ],
   "source": [
    "smartphone_details.smartphone_details()"
   ]
  },
  {
   "cell_type": "code",
   "execution_count": 51,
   "id": "9c459841-59e1-4d9a-8727-34dd25e64fc9",
   "metadata": {},
   "outputs": [],
   "source": [
    "# hierarchical inheritance\n",
    "\n",
    "class Electronics:\n",
    "    def __init__(self, item):\n",
    "        self.item = item\n",
    "        \n",
    "        \n",
    "class category1(Electronics):\n",
    "    def _item(self):\n",
    "        return f\"the {self.item} is a category of Electronics\"\n",
    "    \n",
    "    \n",
    "class category2(Electronics):\n",
    "    def _item(self):\n",
    "        return f\"the {self.item} is a category of Electronics\"\n",
    "\n",
    "        \n",
    "class category3(Electronics):\n",
    "    def _item(self):\n",
    "        return f\"the {self.item} is a category of Electronics\"\n",
    "    \n",
    "    "
   ]
  },
  {
   "cell_type": "code",
   "execution_count": 52,
   "id": "bea86dea-e050-4148-9e4e-9fa843b10516",
   "metadata": {},
   "outputs": [],
   "source": [
    "category1 = category1(\"computer\")\n",
    "category2 = category2(\"smartphone\")\n",
    "category3=category3(\"tv\")"
   ]
  },
  {
   "cell_type": "code",
   "execution_count": 53,
   "id": "d8a19d77-e033-4c65-9509-e10d9c35f1cb",
   "metadata": {},
   "outputs": [
    {
     "name": "stdout",
     "output_type": "stream",
     "text": [
      "the computer is a category of Electronics\n",
      "the smartphone is a category of Electronics\n",
      "the tv is a category of Electronics\n"
     ]
    }
   ],
   "source": [
    "l = [category1 , category2, category3]\n",
    "for i in l:\n",
    "    print(i._item())"
   ]
  },
  {
   "cell_type": "code",
   "execution_count": 11,
   "id": "680ef0b6-feaf-41fd-ac0b-179099269170",
   "metadata": {},
   "outputs": [],
   "source": [
    "# hybrid inheritance\n",
    "\n",
    "class category:\n",
    "    def item (self):\n",
    "        return \"this is an item\"\n",
    "\n",
    "class electronics_item(category):\n",
    "    pass\n",
    "        \n",
    "class smartphone(electronics_item):\n",
    "    pass\n",
    "\n",
    "class home_decor(category):\n",
    "    pass\n",
    "\n",
    "class furniture(home_decor):\n",
    "    pass\n",
    "\n",
    "class all_item(electronics_item, home_decor):\n",
    "    pass"
   ]
  },
  {
   "cell_type": "code",
   "execution_count": 12,
   "id": "41b3b55d-f707-42c4-ad11-626812bccff9",
   "metadata": {},
   "outputs": [],
   "source": [
    "item1 = home_decor()\n",
    "item2 = all_item()"
   ]
  },
  {
   "cell_type": "code",
   "execution_count": 13,
   "id": "53e41669-f0e3-4039-af5c-52251b3bf2fd",
   "metadata": {},
   "outputs": [
    {
     "data": {
      "text/plain": [
       "'this is an item'"
      ]
     },
     "execution_count": 13,
     "metadata": {},
     "output_type": "execute_result"
    }
   ],
   "source": [
    "item1.item()"
   ]
  },
  {
   "cell_type": "code",
   "execution_count": 14,
   "id": "c235d047-2ae9-4201-b9a9-a6a89c7f42c0",
   "metadata": {},
   "outputs": [
    {
     "data": {
      "text/plain": [
       "'this is an item'"
      ]
     },
     "execution_count": 14,
     "metadata": {},
     "output_type": "execute_result"
    }
   ],
   "source": [
    "item2.item()"
   ]
  },
  {
   "cell_type": "code",
   "execution_count": null,
   "id": "d8ce1acd-878c-4a90-9318-5c05e66fd845",
   "metadata": {},
   "outputs": [],
   "source": []
  }
 ],
 "metadata": {
  "kernelspec": {
   "display_name": "Python 3 (ipykernel)",
   "language": "python",
   "name": "python3"
  },
  "language_info": {
   "codemirror_mode": {
    "name": "ipython",
    "version": 3
   },
   "file_extension": ".py",
   "mimetype": "text/x-python",
   "name": "python",
   "nbconvert_exporter": "python",
   "pygments_lexer": "ipython3",
   "version": "3.10.8"
  }
 },
 "nbformat": 4,
 "nbformat_minor": 5
}
